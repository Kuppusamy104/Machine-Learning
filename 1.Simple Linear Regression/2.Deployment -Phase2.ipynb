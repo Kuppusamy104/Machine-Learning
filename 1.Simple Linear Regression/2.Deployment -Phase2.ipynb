{
 "cells": [
  {
   "cell_type": "code",
   "execution_count": 1,
   "id": "3f634dfa-5015-4013-bf31-50a8ae9cf3bc",
   "metadata": {},
   "outputs": [],
   "source": [
    "# Save the model using pickle, extension is sav\n",
    "import pickle\n",
    "filename=\"Finalized_model_liner.sav\""
   ]
  },
  {
   "cell_type": "code",
   "execution_count": 3,
   "id": "1e7288ac-419f-4b16-b788-99142b2165cb",
   "metadata": {},
   "outputs": [
    {
     "name": "stderr",
     "output_type": "stream",
     "text": [
      "C:\\ProgramData\\anaconda3\\Lib\\site-packages\\sklearn\\base.py:493: UserWarning: X does not have valid feature names, but LinearRegression was fitted with feature names\n",
      "  warnings.warn(\n"
     ]
    }
   ],
   "source": [
    "#load the model \n",
    "loaded_model=pickle.load(open(\"Finalized_model_liner.sav\",'rb')) # rb - read binary\n",
    "\n",
    "result=loaded_model.predict([[13]])  # x= 13 (i/p -13 yrs experience)\n",
    "#y=wx+c -> y=weight(13)+bias\n",
    "#y=wx+c -> y=9360(13)+26777"
   ]
  },
  {
   "cell_type": "code",
   "execution_count": 5,
   "id": "2144ee9e-d441-43ed-8e37-aa66f51be972",
   "metadata": {},
   "outputs": [
    {
     "data": {
      "text/plain": [
       "array([[148460.78806172]])"
      ]
     },
     "execution_count": 5,
     "metadata": {},
     "output_type": "execute_result"
    }
   ],
   "source": [
    "result # salary for 13 yrs exp"
   ]
  },
  {
   "cell_type": "code",
   "execution_count": null,
   "id": "c22b918c-7c3d-481b-8f08-6ac58d88484d",
   "metadata": {},
   "outputs": [],
   "source": []
  }
 ],
 "metadata": {
  "kernelspec": {
   "display_name": "Python 3 (ipykernel)",
   "language": "python",
   "name": "python3"
  },
  "language_info": {
   "codemirror_mode": {
    "name": "ipython",
    "version": 3
   },
   "file_extension": ".py",
   "mimetype": "text/x-python",
   "name": "python",
   "nbconvert_exporter": "python",
   "pygments_lexer": "ipython3",
   "version": "3.12.4"
  }
 },
 "nbformat": 4,
 "nbformat_minor": 5
}
