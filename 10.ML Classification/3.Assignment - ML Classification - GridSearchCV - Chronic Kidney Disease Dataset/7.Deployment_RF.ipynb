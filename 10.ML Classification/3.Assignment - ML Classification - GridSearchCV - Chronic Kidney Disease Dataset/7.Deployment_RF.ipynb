{
 "cells": [
  {
   "cell_type": "code",
   "execution_count": 1,
   "id": "593dd2bf-d72c-45b7-b178-2ff1b8ded1eb",
   "metadata": {},
   "outputs": [],
   "source": [
    "import pickle"
   ]
  },
  {
   "cell_type": "code",
   "execution_count": 3,
   "id": "fbb21541-6b77-4fe7-80af-f03a791d8d5c",
   "metadata": {},
   "outputs": [],
   "source": [
    "loaded_model=pickle.load(open(\"finalized_model_RF_GridSearchCV_CKD.sav\",'rb'))"
   ]
  },
  {
   "cell_type": "code",
   "execution_count": 9,
   "id": "d504808d-292b-44c0-b85a-23ffdeeb1720",
   "metadata": {},
   "outputs": [],
   "source": [
    "sc=pickle.load(open(\"Final_RF_CKD_sc.pkl\",\"rb\"))"
   ]
  },
  {
   "cell_type": "code",
   "execution_count": 13,
   "id": "1c5f98bf-621f-4553-9739-64b8eee49158",
   "metadata": {},
   "outputs": [
    {
     "name": "stdin",
     "output_type": "stream",
     "text": [
      "Age (in years):  35\n",
      "Blood Pressure (BP):  96\n",
      "Albumin (AL):  3\n",
      "Sugar (SU):  0\n",
      "Blood Glucose Random (BGR):  149\n",
      "Blood Urea (BU):  66\n",
      "Serum Creatinine (SC):  0.9\n",
      "Sodium (SOD):  138\n",
      "Potassium (POT):  4.6\n",
      "Hemoglobin (HRMO):  11\n",
      "Packed Cell Volume (PCV):  38\n",
      "White Blood Cell Count (WC):  8025\n",
      "Red Blood Cell Count (RC):  4.7588\n",
      "Specific Gravity - Level B (SG B):  1\n",
      "Specific Gravity - Level C (SG C):  0\n",
      "Specific Gravity - Level D (SG D):  1\n",
      "Specific Gravity - Level E (SG E):  0\n",
      "Red Blood Cells Normal (RBC Normal):  1\n",
      "Pus Cell Normal (PC Normal):  1\n",
      "Pus Cell Clumps Present (PCC Present):  1\n",
      "Bacteria Present (BA Present):  0\n",
      "Hypertension Yes (HTN Yes):  0\n",
      "Diabetes Mellitus Yes (DM Yes):  0\n",
      "Coronary Artery Disease Yes (CAD Yes):  1\n",
      "Appetite Yes (Appet Yes):  0\n",
      "Pedal Edema Yes (PE Yes):  0\n",
      "Anemia Yes (ANE Yes):  0\n"
     ]
    }
   ],
   "source": [
    "age_input = float(input(\"Age (in years): \"))\n",
    "bp_input = float(input(\"Blood Pressure (BP): \"))\n",
    "al_input = float(input(\"Albumin (AL): \"))\n",
    "su_input = float(input(\"Sugar (SU): \"))\n",
    "bgr_input = float(input(\"Blood Glucose Random (BGR): \"))\n",
    "bu_input = float(input(\"Blood Urea (BU): \"))\n",
    "sc_input = float(input(\"Serum Creatinine (SC): \"))\n",
    "sod_input = float(input(\"Sodium (SOD): \"))\n",
    "pot_input = float(input(\"Potassium (POT): \"))\n",
    "hrmo_input = float(input(\"Hemoglobin (HRMO): \"))\n",
    "pcv_input = float(input(\"Packed Cell Volume (PCV): \"))\n",
    "wc_input = float(input(\"White Blood Cell Count (WC): \"))\n",
    "rc_input = float(input(\"Red Blood Cell Count (RC): \"))\n",
    "sg_b_input = int(input(\"Specific Gravity - Level B (SG B): \"))\n",
    "sg_c_input = int(input(\"Specific Gravity - Level C (SG C): \"))\n",
    "sg_d_input = int(input(\"Specific Gravity - Level D (SG D): \"))\n",
    "sg_e_input = int(input(\"Specific Gravity - Level E (SG E): \"))\n",
    "rbc_normal_input = int(input(\"Red Blood Cells Normal (RBC Normal): \"))\n",
    "pc_normal_input = int(input(\"Pus Cell Normal (PC Normal): \"))\n",
    "pcc_present_input = int(input(\"Pus Cell Clumps Present (PCC Present): \"))\n",
    "ba_present_input = int(input(\"Bacteria Present (BA Present): \"))\n",
    "htn_yes_input = int(input(\"Hypertension Yes (HTN Yes): \"))\n",
    "dm_yes_input = int(input(\"Diabetes Mellitus Yes (DM Yes): \"))\n",
    "cad_yes_input = int(input(\"Coronary Artery Disease Yes (CAD Yes): \"))\n",
    "appet_yes_input = int(input(\"Appetite Yes (Appet Yes): \"))\n",
    "pe_yes_input = int(input(\"Pedal Edema Yes (PE Yes): \"))\n",
    "ane_yes_input = int(input(\"Anemia Yes (ANE Yes): \"))"
   ]
  },
  {
   "cell_type": "code",
   "execution_count": 15,
   "id": "e12fdd4f-3087-426f-ad56-f7adb659dac1",
   "metadata": {},
   "outputs": [
    {
     "name": "stderr",
     "output_type": "stream",
     "text": [
      "C:\\ProgramData\\anaconda3\\Lib\\site-packages\\sklearn\\base.py:493: UserWarning: X does not have valid feature names, but StandardScaler was fitted with feature names\n",
      "  warnings.warn(\n"
     ]
    },
    {
     "data": {
      "text/plain": [
       "array([[-1.0445218 ,  1.49155551,  1.75234707, -0.36409637, -0.00795243,\n",
       "         0.11127655, -0.38782565,  0.04057335,  0.01086132, -0.5450311 ,\n",
       "        -0.12305506, -0.12151188,  0.10239042,  2.02864108, -0.5454915 ,\n",
       "         2.21610269, -0.13840913,  0.38924947,  0.51055216,  2.91547595,\n",
       "        -0.23570226, -0.73926425, -0.73926425,  3.41565026, -1.93649167,\n",
       "        -0.52223297, -0.44519456]])"
      ]
     },
     "execution_count": 15,
     "metadata": {},
     "output_type": "execute_result"
    }
   ],
   "source": [
    "preinput=sc.transform([[age_input, bp_input, al_input, su_input, bgr_input, bu_input, sc_input, sod_input, pot_input, \n",
    "                                 hrmo_input, pcv_input, wc_input, rc_input, sg_b_input, sg_c_input, sg_d_input, sg_e_input, \n",
    "                                 rbc_normal_input, pc_normal_input, pcc_present_input, ba_present_input, htn_yes_input, \n",
    "                                 dm_yes_input, cad_yes_input, appet_yes_input, pe_yes_input, ane_yes_input]]) \n",
    "preinput"
   ]
  },
  {
   "cell_type": "code",
   "execution_count": 17,
   "id": "ae9c6e1b-e99d-4bea-a8c2-35c9556a21a1",
   "metadata": {},
   "outputs": [
    {
     "name": "stderr",
     "output_type": "stream",
     "text": [
      "C:\\ProgramData\\anaconda3\\Lib\\site-packages\\sklearn\\base.py:493: UserWarning: X does not have valid feature names, but RandomForestClassifier was fitted with feature names\n",
      "  warnings.warn(\n"
     ]
    },
    {
     "data": {
      "text/plain": [
       "array([1])"
      ]
     },
     "execution_count": 17,
     "metadata": {},
     "output_type": "execute_result"
    }
   ],
   "source": [
    "result=loaded_model.predict(preinput) \n",
    "result"
   ]
  },
  {
   "cell_type": "code",
   "execution_count": 19,
   "id": "2eaae3ab-8229-4b35-b014-65638e0381f2",
   "metadata": {},
   "outputs": [
    {
     "name": "stdout",
     "output_type": "stream",
     "text": [
      "The prediction for Chronic Kidney Disease: Yes - Please you need to consult the doctor\n"
     ]
    }
   ],
   "source": [
    "if result==0:\n",
    "    print(\"The prediction for Chronic Kidney Disease: No - Good Condition -All Right\")\n",
    "else:\n",
    "    print(\"The prediction for Chronic Kidney Disease: Yes - Please you need to consult the doctor\")"
   ]
  },
  {
   "cell_type": "code",
   "execution_count": null,
   "id": "c63d7820-8d19-4c88-9ad2-381f5f30bee3",
   "metadata": {},
   "outputs": [],
   "source": []
  }
 ],
 "metadata": {
  "kernelspec": {
   "display_name": "Python 3 (ipykernel)",
   "language": "python",
   "name": "python3"
  },
  "language_info": {
   "codemirror_mode": {
    "name": "ipython",
    "version": 3
   },
   "file_extension": ".py",
   "mimetype": "text/x-python",
   "name": "python",
   "nbconvert_exporter": "python",
   "pygments_lexer": "ipython3",
   "version": "3.12.4"
  }
 },
 "nbformat": 4,
 "nbformat_minor": 5
}
