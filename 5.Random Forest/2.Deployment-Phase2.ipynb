{
 "cells": [
  {
   "cell_type": "code",
   "execution_count": 1,
   "id": "03b0b07b-9134-4633-8dd0-19b47cbf9751",
   "metadata": {},
   "outputs": [],
   "source": [
    "import pickle"
   ]
  },
  {
   "cell_type": "code",
   "execution_count": 3,
   "id": "40a6809e-6806-47e5-a67b-9172c30387f2",
   "metadata": {},
   "outputs": [
    {
     "name": "stderr",
     "output_type": "stream",
     "text": [
      "C:\\ProgramData\\anaconda3\\Lib\\site-packages\\sklearn\\base.py:493: UserWarning: X does not have valid feature names, but RandomForestRegressor was fitted with feature names\n",
      "  warnings.warn(\n"
     ]
    }
   ],
   "source": [
    "loaded_model=pickle.load(open(\"Finalized_model_RandomForest.sav\",'rb')) \n",
    "result=loaded_model.predict([[25000,10000,7854,1,0]]) #Need to provide 5 i/p"
   ]
  },
  {
   "cell_type": "code",
   "execution_count": 5,
   "id": "59627cb2-f65a-4e32-9bbb-c5b0d91ffd07",
   "metadata": {},
   "outputs": [
    {
     "data": {
      "text/plain": [
       "array([65221.821])"
      ]
     },
     "execution_count": 5,
     "metadata": {},
     "output_type": "execute_result"
    }
   ],
   "source": [
    "result"
   ]
  },
  {
   "cell_type": "code",
   "execution_count": null,
   "id": "b859b422-ed07-4891-af08-3ebf91dddbff",
   "metadata": {},
   "outputs": [],
   "source": []
  }
 ],
 "metadata": {
  "kernelspec": {
   "display_name": "Python 3 (ipykernel)",
   "language": "python",
   "name": "python3"
  },
  "language_info": {
   "codemirror_mode": {
    "name": "ipython",
    "version": 3
   },
   "file_extension": ".py",
   "mimetype": "text/x-python",
   "name": "python",
   "nbconvert_exporter": "python",
   "pygments_lexer": "ipython3",
   "version": "3.12.4"
  }
 },
 "nbformat": 4,
 "nbformat_minor": 5
}
