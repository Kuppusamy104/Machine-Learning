{
 "cells": [
  {
   "cell_type": "code",
   "execution_count": 1,
   "id": "f04aeb4b-f4ec-40f7-a0e2-464507acb4bf",
   "metadata": {},
   "outputs": [],
   "source": [
    "import pickle"
   ]
  },
  {
   "cell_type": "code",
   "execution_count": 3,
   "id": "07da22c7-f996-4f7f-a0be-9e1fa9dea197",
   "metadata": {},
   "outputs": [
    {
     "name": "stderr",
     "output_type": "stream",
     "text": [
      "C:\\ProgramData\\anaconda3\\Lib\\site-packages\\sklearn\\base.py:493: UserWarning: X does not have valid feature names, but RandomForestRegressor was fitted with feature names\n",
      "  warnings.warn(\n"
     ]
    }
   ],
   "source": [
    "loaded_model=pickle.load(open(\"FinalizedChargePredict_model_RandomForest.sav\",'rb')) \n",
    "result=loaded_model.predict([[32,34.44,2,0,1]]) #Need to provide 5 i/p ['age', 'bmi', 'children', 'sex_male', 'smoker_yes']"
   ]
  },
  {
   "cell_type": "code",
   "execution_count": 5,
   "id": "b31da109-f971-4f27-8d34-18da779463ab",
   "metadata": {},
   "outputs": [
    {
     "data": {
      "text/plain": [
       "array([38881.778602])"
      ]
     },
     "execution_count": 5,
     "metadata": {},
     "output_type": "execute_result"
    }
   ],
   "source": [
    "result"
   ]
  },
  {
   "cell_type": "code",
   "execution_count": null,
   "id": "8ff68076-4cdc-4139-ab16-e49742ec5a2d",
   "metadata": {},
   "outputs": [],
   "source": []
  }
 ],
 "metadata": {
  "kernelspec": {
   "display_name": "Python 3 (ipykernel)",
   "language": "python",
   "name": "python3"
  },
  "language_info": {
   "codemirror_mode": {
    "name": "ipython",
    "version": 3
   },
   "file_extension": ".py",
   "mimetype": "text/x-python",
   "name": "python",
   "nbconvert_exporter": "python",
   "pygments_lexer": "ipython3",
   "version": "3.12.4"
  }
 },
 "nbformat": 4,
 "nbformat_minor": 5
}
