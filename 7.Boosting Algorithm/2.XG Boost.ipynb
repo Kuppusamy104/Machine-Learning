{
 "cells": [
  {
   "cell_type": "code",
   "execution_count": null,
   "id": "bc45207b-6e73-43ac-9cb8-21ce050932d7",
   "metadata": {},
   "outputs": [],
   "source": [
    "#To prdict the insurence charges using XG boosting Algorithm\n",
    "#1st step installing the XG boost using \"!pip install xgboost\""
   ]
  },
  {
   "cell_type": "code",
   "execution_count": 1,
   "id": "71d39607-7e6f-44e6-8da1-098a8a0c3aa3",
   "metadata": {},
   "outputs": [
    {
     "name": "stdout",
     "output_type": "stream",
     "text": [
      "Defaulting to user installation because normal site-packages is not writeable\n",
      "Requirement already satisfied: xgboost in c:\\users\\sudha\\appdata\\roaming\\python\\python312\\site-packages (2.1.3)\n",
      "Requirement already satisfied: numpy in c:\\programdata\\anaconda3\\lib\\site-packages (from xgboost) (1.26.4)\n",
      "Requirement already satisfied: scipy in c:\\programdata\\anaconda3\\lib\\site-packages (from xgboost) (1.13.1)\n"
     ]
    }
   ],
   "source": [
    "!pip install xgboost"
   ]
  },
  {
   "cell_type": "code",
   "execution_count": 3,
   "id": "a88c2bab-58e4-4924-8578-369824392422",
   "metadata": {},
   "outputs": [],
   "source": [
    "\n",
    "import xgboost"
   ]
  },
  {
   "cell_type": "code",
   "execution_count": 5,
   "id": "5a1bc633-7b0c-486f-a02a-085645b5db8f",
   "metadata": {},
   "outputs": [],
   "source": [
    "import pandas as pd\n",
    "dataset = pd.read_csv(\"insurance_pre.csv\")"
   ]
  },
  {
   "cell_type": "code",
   "execution_count": 7,
   "id": "76c5388b-ab2a-402b-8f39-396acf924732",
   "metadata": {},
   "outputs": [],
   "source": [
    "dataset=pd.get_dummies(dataset,drop_first=True)"
   ]
  },
  {
   "cell_type": "code",
   "execution_count": 9,
   "id": "26fd646b-2d03-4ccf-b121-5334ca01c1f9",
   "metadata": {},
   "outputs": [],
   "source": [
    "dataset[['sex_male','smoker_yes']] = dataset[['sex_male','smoker_yes']].astype(int) # Change the column dtype to int after applying get_dummies"
   ]
  },
  {
   "cell_type": "code",
   "execution_count": 11,
   "id": "62e6213a-3d59-4936-b890-b556af4ca006",
   "metadata": {},
   "outputs": [
    {
     "data": {
      "text/plain": [
       "Index(['age', 'bmi', 'children', 'charges', 'sex_male', 'smoker_yes'], dtype='object')"
      ]
     },
     "execution_count": 11,
     "metadata": {},
     "output_type": "execute_result"
    }
   ],
   "source": [
    "dataset.columns"
   ]
  },
  {
   "cell_type": "code",
   "execution_count": 13,
   "id": "aa390f37-19bb-4212-803f-1c205c9e4858",
   "metadata": {},
   "outputs": [],
   "source": [
    "independent=dataset[['age', 'bmi', 'children', 'sex_male', 'smoker_yes']]"
   ]
  },
  {
   "cell_type": "code",
   "execution_count": 15,
   "id": "a26c1f2f-7167-4f4d-88da-537a19ec02e8",
   "metadata": {},
   "outputs": [],
   "source": [
    "dependent=dataset[['charges']]"
   ]
  },
  {
   "cell_type": "code",
   "execution_count": 19,
   "id": "308eb764-29bd-45ab-8093-3810a649b23d",
   "metadata": {},
   "outputs": [],
   "source": [
    "from sklearn.model_selection import train_test_split\n",
    "x_train,x_test,y_train,y_test = train_test_split(independent,dependent,test_size=0.30,random_state=0)"
   ]
  },
  {
   "cell_type": "code",
   "execution_count": 21,
   "id": "5a0d9502-9e1e-4a3d-84f4-36b236f6d0a9",
   "metadata": {},
   "outputs": [],
   "source": [
    "from xgboost import XGBRegressor\n",
    "regressor=XGBRegressor()\n",
    "regressor=regressor.fit(x_train,y_train)"
   ]
  },
  {
   "cell_type": "code",
   "execution_count": 23,
   "id": "8ec86c8b-7755-4df9-a1fa-d633f49aedee",
   "metadata": {},
   "outputs": [],
   "source": [
    "y_pred = regressor.predict(x_test) "
   ]
  },
  {
   "cell_type": "code",
   "execution_count": 25,
   "id": "709d8363-af1f-4152-bff5-85703ca1dae1",
   "metadata": {},
   "outputs": [],
   "source": [
    "from sklearn.metrics import r2_score\n",
    "r2_score = r2_score(y_test,y_pred)"
   ]
  },
  {
   "cell_type": "code",
   "execution_count": 27,
   "id": "c23ff448-fd70-41f0-89c3-d77c48a619ce",
   "metadata": {},
   "outputs": [
    {
     "data": {
      "text/plain": [
       "0.8213337154158369"
      ]
     },
     "execution_count": 27,
     "metadata": {},
     "output_type": "execute_result"
    }
   ],
   "source": [
    "r2_score"
   ]
  },
  {
   "cell_type": "code",
   "execution_count": null,
   "id": "3eb8cea0-cc85-4303-89a8-c2b1c039e9c1",
   "metadata": {},
   "outputs": [],
   "source": []
  }
 ],
 "metadata": {
  "kernelspec": {
   "display_name": "Python 3 (ipykernel)",
   "language": "python",
   "name": "python3"
  },
  "language_info": {
   "codemirror_mode": {
    "name": "ipython",
    "version": 3
   },
   "file_extension": ".py",
   "mimetype": "text/x-python",
   "name": "python",
   "nbconvert_exporter": "python",
   "pygments_lexer": "ipython3",
   "version": "3.12.4"
  }
 },
 "nbformat": 4,
 "nbformat_minor": 5
}
