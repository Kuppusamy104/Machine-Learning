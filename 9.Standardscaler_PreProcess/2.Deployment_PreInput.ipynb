{
 "cells": [
  {
   "cell_type": "code",
   "execution_count": 3,
   "id": "98849186-833e-4782-8f80-fffbd2eb75fa",
   "metadata": {},
   "outputs": [],
   "source": [
    "import pickle"
   ]
  },
  {
   "cell_type": "code",
   "execution_count": 23,
   "id": "cba041c1-e796-4ca2-93bb-e0f7534b26d2",
   "metadata": {},
   "outputs": [],
   "source": [
    "import pandas as pd"
   ]
  },
  {
   "cell_type": "code",
   "execution_count": 25,
   "id": "b943e2c8-0f7a-44a4-ba2b-f36dd47d97e6",
   "metadata": {},
   "outputs": [],
   "source": [
    "dataset=pd.read_csv(\"50_Startups.csv\")"
   ]
  },
  {
   "cell_type": "code",
   "execution_count": 27,
   "id": "4a43264f-4da1-4b30-9f46-655df47c576d",
   "metadata": {},
   "outputs": [],
   "source": [
    "dataset=pd.get_dummies(dataset,drop_first=True)\n",
    "dataset[['State_Florida','State_New York']] = dataset[['State_Florida','State_New York']].astype(int) # Change the column dtype to int after applying get_dummies\n",
    "independent=dataset[['R&D Spend', 'Administration', 'Marketing Spend', 'State_Florida', 'State_New York']]\n",
    "dependent=dataset[[\"Profit\"]]\n"
   ]
  },
  {
   "cell_type": "code",
   "execution_count": 29,
   "id": "b8f97706-9fd5-4ffa-aa28-c033e4cb9284",
   "metadata": {},
   "outputs": [],
   "source": [
    "from sklearn.model_selection import train_test_split\n",
    "x_train,x_test,y_train,y_test = train_test_split(independent,dependent,test_size=0.30,random_state=0)"
   ]
  },
  {
   "cell_type": "code",
   "execution_count": 31,
   "id": "37e840cb-39f7-402e-851a-20c1a271a985",
   "metadata": {},
   "outputs": [],
   "source": [
    "from sklearn.preprocessing import StandardScaler # data pre processing -standardization \n",
    "sc=StandardScaler()\n",
    "x_train=sc.fit_transform(x_train) #fit_transform => (x-mean)/std deviation for each data point\n",
    "x_test=sc.transform(x_test) #transform -> applying training data standardization value for test data as well while doing cal's"
   ]
  },
  {
   "cell_type": "code",
   "execution_count": 33,
   "id": "46f11c51-0a6e-4328-90d0-a12a3d6f7bdc",
   "metadata": {},
   "outputs": [
    {
     "name": "stderr",
     "output_type": "stream",
     "text": [
      "C:\\ProgramData\\anaconda3\\Lib\\site-packages\\sklearn\\base.py:493: UserWarning: X does not have valid feature names, but StandardScaler was fitted with feature names\n",
      "  warnings.warn(\n"
     ]
    }
   ],
   "source": [
    "preinput=sc.transform([[1300,12000,4000,0,1]]) "
   ]
  },
  {
   "cell_type": "code",
   "execution_count": 35,
   "id": "020c12fd-08e4-40b5-9517-37040ad4a4d6",
   "metadata": {},
   "outputs": [
    {
     "data": {
      "text/plain": [
       "array([[-1.46755405, -4.33835385, -1.50744257, -0.5       ,  1.30088727]])"
      ]
     },
     "execution_count": 35,
     "metadata": {},
     "output_type": "execute_result"
    }
   ],
   "source": [
    "preinput"
   ]
  },
  {
   "cell_type": "code",
   "execution_count": 37,
   "id": "2cbf7b85-2b06-405c-8c58-71d59e9cb2ec",
   "metadata": {},
   "outputs": [],
   "source": [
    "loaded_model=pickle.load(open(\"SVMR_PreInput.sav\",'rb')) \n",
    "result=loaded_model.predict(preinput) #Need to provide 5 i/p ['age', 'bmi', 'children', 'sex_male', 'smoker_yes']"
   ]
  },
  {
   "cell_type": "code",
   "execution_count": 39,
   "id": "05016e60-cb0f-4535-9d7e-88ea33d27011",
   "metadata": {},
   "outputs": [
    {
     "data": {
      "text/plain": [
       "array([107679.41510409])"
      ]
     },
     "execution_count": 39,
     "metadata": {},
     "output_type": "execute_result"
    }
   ],
   "source": [
    "result"
   ]
  },
  {
   "cell_type": "code",
   "execution_count": null,
   "id": "1816a0b2-669c-4e1a-890b-6ff1928d55e3",
   "metadata": {},
   "outputs": [],
   "source": []
  }
 ],
 "metadata": {
  "kernelspec": {
   "display_name": "Python 3 (ipykernel)",
   "language": "python",
   "name": "python3"
  },
  "language_info": {
   "codemirror_mode": {
    "name": "ipython",
    "version": 3
   },
   "file_extension": ".py",
   "mimetype": "text/x-python",
   "name": "python",
   "nbconvert_exporter": "python",
   "pygments_lexer": "ipython3",
   "version": "3.12.4"
  }
 },
 "nbformat": 4,
 "nbformat_minor": 5
}
