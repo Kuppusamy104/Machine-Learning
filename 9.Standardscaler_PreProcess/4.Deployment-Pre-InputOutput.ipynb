{
 "cells": [
  {
   "cell_type": "code",
   "execution_count": 3,
   "id": "30f6a84e-d5d1-442d-89f5-cbc6f2e679b2",
   "metadata": {},
   "outputs": [],
   "source": [
    "import pickle"
   ]
  },
  {
   "cell_type": "code",
   "execution_count": 11,
   "id": "6ae56b9d-0108-4827-9b3d-2e8b0c9579da",
   "metadata": {},
   "outputs": [],
   "source": [
    "scx = pickle.load(open(\"SVMR_scx.pkl\",\"rb\"))\n",
    "scy = pickle.load(open(\"SVMR_scy.pkl\",\"rb\"))\n"
   ]
  },
  {
   "cell_type": "code",
   "execution_count": 13,
   "id": "4298f026-9098-49fe-ae34-1a07df74514b",
   "metadata": {},
   "outputs": [
    {
     "name": "stderr",
     "output_type": "stream",
     "text": [
      "C:\\ProgramData\\anaconda3\\Lib\\site-packages\\sklearn\\base.py:493: UserWarning: X does not have valid feature names, but StandardScaler was fitted with feature names\n",
      "  warnings.warn(\n"
     ]
    }
   ],
   "source": [
    "preinput=scx.transform([[1300,12000,4000,0,1]]) "
   ]
  },
  {
   "cell_type": "code",
   "execution_count": 15,
   "id": "d713db4f-8ff4-438b-aaef-70adb71066c3",
   "metadata": {},
   "outputs": [],
   "source": [
    "load_model =pickle.load(open(\"SVMR_PreInputOutput.sav\",\"rb\"))\n",
    "result=load_model.predict(preinput)"
   ]
  },
  {
   "cell_type": "code",
   "execution_count": 17,
   "id": "c6689541-4cf8-41f0-bc17-f64b548aa32e",
   "metadata": {},
   "outputs": [
    {
     "data": {
      "text/plain": [
       "array([-1.03109284])"
      ]
     },
     "execution_count": 17,
     "metadata": {},
     "output_type": "execute_result"
    }
   ],
   "source": [
    "result"
   ]
  },
  {
   "cell_type": "code",
   "execution_count": 19,
   "id": "1050f9b8-fe27-4bc8-a1be-124e31eedd74",
   "metadata": {},
   "outputs": [],
   "source": [
    "preOutput = scy.inverse_transform([result])"
   ]
  },
  {
   "cell_type": "code",
   "execution_count": 21,
   "id": "546d1b94-ffbe-4298-80e6-0aab579aff95",
   "metadata": {},
   "outputs": [
    {
     "data": {
      "text/plain": [
       "array([[65875.16964031]])"
      ]
     },
     "execution_count": 21,
     "metadata": {},
     "output_type": "execute_result"
    }
   ],
   "source": [
    "preOutput"
   ]
  },
  {
   "cell_type": "code",
   "execution_count": null,
   "id": "e04164a3-3ebf-47f9-b461-974f01d434c8",
   "metadata": {},
   "outputs": [],
   "source": []
  }
 ],
 "metadata": {
  "kernelspec": {
   "display_name": "Python 3 (ipykernel)",
   "language": "python",
   "name": "python3"
  },
  "language_info": {
   "codemirror_mode": {
    "name": "ipython",
    "version": 3
   },
   "file_extension": ".py",
   "mimetype": "text/x-python",
   "name": "python",
   "nbconvert_exporter": "python",
   "pygments_lexer": "ipython3",
   "version": "3.12.4"
  }
 },
 "nbformat": 4,
 "nbformat_minor": 5
}
